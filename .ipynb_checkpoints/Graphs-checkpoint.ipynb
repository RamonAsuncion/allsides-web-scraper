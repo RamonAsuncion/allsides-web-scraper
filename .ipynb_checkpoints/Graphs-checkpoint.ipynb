{
 "cells": [
  {
   "cell_type": "markdown",
   "metadata": {},
   "source": [
    "## Allsides Web scraper in Graphs/Tabels\n",
    "\n",
    "Becoming interested in web scraping I started off simple with parsing out data from a table. The data I collected consisted of news source, where they fall in the political specturm, and if people agree if where they fall on the specturm is true. "
   ]
  },
  {
   "cell_type": "code",
   "execution_count": 148,
   "metadata": {},
   "outputs": [],
   "source": [
    "import pandas as pd  \n",
    "import matplotlib.pyplot as plt"
   ]
  },
  {
   "cell_type": "code",
   "execution_count": 149,
   "metadata": {},
   "outputs": [],
   "source": [
    "df = pd.read_json(open('allside.json', 'r'))\n",
    "df.set_index('News Source', inplace=True)"
   ]
  },
  {
   "cell_type": "code",
   "execution_count": 150,
   "metadata": {},
   "outputs": [],
   "source": [
    "pd.set_option('display.max_rows', 50)\n",
    "pd.set_option('display.max_columns', 9)"
   ]
  },
  {
   "cell_type": "markdown",
   "metadata": {},
   "source": [
    "## Data in a table:\n",
    "\n"
   ]
  },
  {
   "cell_type": "code",
   "execution_count": 151,
   "metadata": {
    "scrolled": true
   },
   "outputs": [
    {
     "data": {
      "text/html": [
       "<div>\n",
       "<style scoped>\n",
       "    .dataframe tbody tr th:only-of-type {\n",
       "        vertical-align: middle;\n",
       "    }\n",
       "\n",
       "    .dataframe tbody tr th {\n",
       "        vertical-align: top;\n",
       "    }\n",
       "\n",
       "    .dataframe thead th {\n",
       "        text-align: right;\n",
       "    }\n",
       "</style>\n",
       "<table border=\"1\" class=\"dataframe\">\n",
       "  <thead>\n",
       "    <tr style=\"text-align: right;\">\n",
       "      <th></th>\n",
       "      <th>AllSides Bias Rating</th>\n",
       "      <th>News Media Info</th>\n",
       "      <th>Agree</th>\n",
       "      <th>Disagree</th>\n",
       "      <th>Ratio</th>\n",
       "      <th>Community feedback</th>\n",
       "      <th>News Source Site</th>\n",
       "      <th>Established:</th>\n",
       "      <th>Owned by:</th>\n",
       "    </tr>\n",
       "    <tr>\n",
       "      <th>News Source</th>\n",
       "      <th></th>\n",
       "      <th></th>\n",
       "      <th></th>\n",
       "      <th></th>\n",
       "      <th></th>\n",
       "      <th></th>\n",
       "      <th></th>\n",
       "      <th></th>\n",
       "      <th></th>\n",
       "    </tr>\n",
       "  </thead>\n",
       "  <tbody>\n",
       "    <tr>\n",
       "      <th>ABC News (Online)</th>\n",
       "      <td>left-center</td>\n",
       "      <td>https://www.allsides.com/news-source/abc-news-...</td>\n",
       "      <td>23795</td>\n",
       "      <td>13522</td>\n",
       "      <td>1.760</td>\n",
       "      <td>Agree</td>\n",
       "      <td>http://abcnews.go.com/</td>\n",
       "      <td>6/15/1945</td>\n",
       "      <td>The Walt Disney Company</td>\n",
       "    </tr>\n",
       "    <tr>\n",
       "      <th>AlterNet</th>\n",
       "      <td>left</td>\n",
       "      <td>https://www.allsides.com/news-source/alternet-...</td>\n",
       "      <td>8235</td>\n",
       "      <td>1830</td>\n",
       "      <td>4.500</td>\n",
       "      <td>Absolutely agree</td>\n",
       "      <td>http://www.alternet.org/</td>\n",
       "      <td></td>\n",
       "      <td>Independent Media Institute</td>\n",
       "    </tr>\n",
       "    <tr>\n",
       "      <th>Associated Press</th>\n",
       "      <td>center</td>\n",
       "      <td>https://www.allsides.com/news-source/associate...</td>\n",
       "      <td>16187</td>\n",
       "      <td>11961</td>\n",
       "      <td>1.353</td>\n",
       "      <td>Somewhat agree</td>\n",
       "      <td>https://apnews.com/</td>\n",
       "      <td>1846</td>\n",
       "      <td>Cooperatively owned by 1,500 member news outlets</td>\n",
       "    </tr>\n",
       "    <tr>\n",
       "      <th>BBC News</th>\n",
       "      <td>center</td>\n",
       "      <td>https://www.allsides.com/news-source/bbc-news-...</td>\n",
       "      <td>19888</td>\n",
       "      <td>17921</td>\n",
       "      <td>1.110</td>\n",
       "      <td>Somewhat agree</td>\n",
       "      <td>http://www.bbc.com/</td>\n",
       "      <td>10/18/1922</td>\n",
       "      <td>British Public</td>\n",
       "    </tr>\n",
       "    <tr>\n",
       "      <th>Bloomberg</th>\n",
       "      <td>left-center</td>\n",
       "      <td>https://www.allsides.com/news-source/bloomberg...</td>\n",
       "      <td>10848</td>\n",
       "      <td>16752</td>\n",
       "      <td>0.648</td>\n",
       "      <td>Disagree</td>\n",
       "      <td>http://www.bloomberg.com/</td>\n",
       "      <td>1990</td>\n",
       "      <td>Bloomberg LP (Michael Bloomberg CEO)</td>\n",
       "    </tr>\n",
       "  </tbody>\n",
       "</table>\n",
       "</div>"
      ],
      "text/plain": [
       "                  AllSides Bias Rating  \\\n",
       "News Source                              \n",
       "ABC News (Online)          left-center   \n",
       "AlterNet                          left   \n",
       "Associated Press                center   \n",
       "BBC News                        center   \n",
       "Bloomberg                  left-center   \n",
       "\n",
       "                                                     News Media Info  Agree  \\\n",
       "News Source                                                                   \n",
       "ABC News (Online)  https://www.allsides.com/news-source/abc-news-...  23795   \n",
       "AlterNet           https://www.allsides.com/news-source/alternet-...   8235   \n",
       "Associated Press   https://www.allsides.com/news-source/associate...  16187   \n",
       "BBC News           https://www.allsides.com/news-source/bbc-news-...  19888   \n",
       "Bloomberg          https://www.allsides.com/news-source/bloomberg...  10848   \n",
       "\n",
       "                   Disagree  Ratio Community feedback  \\\n",
       "News Source                                             \n",
       "ABC News (Online)     13522  1.760              Agree   \n",
       "AlterNet               1830  4.500   Absolutely agree   \n",
       "Associated Press      11961  1.353     Somewhat agree   \n",
       "BBC News              17921  1.110     Somewhat agree   \n",
       "Bloomberg             16752  0.648           Disagree   \n",
       "\n",
       "                            News Source Site Established:  \\\n",
       "News Source                                                 \n",
       "ABC News (Online)     http://abcnews.go.com/    6/15/1945   \n",
       "AlterNet            http://www.alternet.org/                \n",
       "Associated Press         https://apnews.com/         1846   \n",
       "BBC News                 http://www.bbc.com/   10/18/1922   \n",
       "Bloomberg          http://www.bloomberg.com/         1990   \n",
       "\n",
       "                                                          Owned by:  \n",
       "News Source                                                          \n",
       "ABC News (Online)                           The Walt Disney Company  \n",
       "AlterNet                                Independent Media Institute  \n",
       "Associated Press   Cooperatively owned by 1,500 member news outlets  \n",
       "BBC News                                             British Public  \n",
       "Bloomberg                      Bloomberg LP (Michael Bloomberg CEO)  "
      ]
     },
     "execution_count": 151,
     "metadata": {},
     "output_type": "execute_result"
    }
   ],
   "source": [
    "df.head()"
   ]
  },
  {
   "cell_type": "code",
   "execution_count": 152,
   "metadata": {},
   "outputs": [
    {
     "data": {
      "text/plain": [
       "(50, 9)"
      ]
     },
     "execution_count": 152,
     "metadata": {},
     "output_type": "execute_result"
    }
   ],
   "source": [
    "df.shape"
   ]
  },
  {
   "cell_type": "code",
   "execution_count": 153,
   "metadata": {
    "scrolled": false
   },
   "outputs": [
    {
     "name": "stdout",
     "output_type": "stream",
     "text": [
      "<class 'pandas.core.frame.DataFrame'>\n",
      "Index: 50 entries, ABC News (Online) to Washington Times\n",
      "Data columns (total 9 columns):\n",
      " #   Column                Non-Null Count  Dtype  \n",
      "---  ------                --------------  -----  \n",
      " 0   AllSides Bias Rating  50 non-null     object \n",
      " 1   News Media Info       50 non-null     object \n",
      " 2   Agree                 50 non-null     int64  \n",
      " 3   Disagree              50 non-null     int64  \n",
      " 4   Ratio                 50 non-null     float64\n",
      " 5   Community feedback    50 non-null     object \n",
      " 6   News Source Site      50 non-null     object \n",
      " 7   Established:          48 non-null     object \n",
      " 8   Owned by:             48 non-null     object \n",
      "dtypes: float64(1), int64(2), object(6)\n",
      "memory usage: 3.9+ KB\n"
     ]
    }
   ],
   "source": [
    "df.info()"
   ]
  },
  {
   "cell_type": "code",
   "execution_count": 154,
   "metadata": {},
   "outputs": [],
   "source": [
    "dfCopy10 = df.head(10).copy() #grabbing the first 10 and putting them into a variable "
   ]
  },
  {
   "cell_type": "code",
   "execution_count": 155,
   "metadata": {},
   "outputs": [],
   "source": [
    "plt.style.use('seaborn-dark') # the style of the graph "
   ]
  },
  {
   "cell_type": "code",
   "execution_count": 156,
   "metadata": {
    "scrolled": true
   },
   "outputs": [
    {
     "data": {
      "image/png": "[encoded data removed]",
      "text/plain": [
       "<Figure size 1440x1080 with 1 Axes>"
      ]
     },
     "metadata": {},
     "output_type": "display_data"
    }
   ],
   "source": [
    "fig, ax = plt.subplots(figsize=(20, 15)) # the dimensions of the x-axis and y-axis \n",
    "\n",
    "ax.bar\n",
    "\n",
    "\n",
    "plt.show() #To make the plot appear"
   ]
  }
 ],
 "metadata": {
  "kernelspec": {
   "display_name": "Python 3",
   "language": "python",
   "name": "python3"
  },
  "language_info": {
   "codemirror_mode": {
    "name": "ipython",
    "version": 3
   },
   "file_extension": ".py",
   "mimetype": "text/x-python",
   "name": "python",
   "nbconvert_exporter": "python",
   "pygments_lexer": "ipython3",
   "version": "3.8.3"
  }
 },
 "nbformat": 4,
 "nbformat_minor": 4
}
