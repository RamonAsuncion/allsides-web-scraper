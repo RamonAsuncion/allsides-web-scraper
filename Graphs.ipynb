{
 "cells": [
  {
   "cell_type": "markdown",
   "metadata": {},
   "source": [
    "## Allsides Web scraper in Graphs/Tabels\n",
    "\n",
    "Becoming interested in web scraping I started off simple with parsing out data from a table. The data I collected consisted of news source, where they fall in the political specturm, and if people agree if where they fall on the specturm is true. "
   ]
  },
  {
   "cell_type": "code",
   "execution_count": 6,
   "metadata": {},
   "outputs": [],
   "source": [
    "from matplotlib import pyplot as plt\n",
    "import pandas as pd \n",
    "import json"
   ]
  },
  {
   "cell_type": "markdown",
   "metadata": {},
   "source": [
    "## Data in a table:\n",
    "\n"
   ]
  },
  {
   "cell_type": "code",
   "execution_count": 13,
   "metadata": {
    "scrolled": true
   },
   "outputs": [
    {
     "data": {
      "text/html": [
       "<div>\n",
       "<style scoped>\n",
       "    .dataframe tbody tr th:only-of-type {\n",
       "        vertical-align: middle;\n",
       "    }\n",
       "\n",
       "    .dataframe tbody tr th {\n",
       "        vertical-align: top;\n",
       "    }\n",
       "\n",
       "    .dataframe thead th {\n",
       "        text-align: right;\n",
       "    }\n",
       "</style>\n",
       "<table border=\"1\" class=\"dataframe\">\n",
       "  <thead>\n",
       "    <tr style=\"text-align: right;\">\n",
       "      <th></th>\n",
       "      <th>AllSides Bias Rating</th>\n",
       "      <th>News Media Info</th>\n",
       "      <th>Agree</th>\n",
       "      <th>Disagree</th>\n",
       "      <th>Ratio</th>\n",
       "      <th>Community feedback</th>\n",
       "      <th>News Source Site</th>\n",
       "      <th>Established</th>\n",
       "      <th>Owned by</th>\n",
       "    </tr>\n",
       "    <tr>\n",
       "      <th>News Source</th>\n",
       "      <th></th>\n",
       "      <th></th>\n",
       "      <th></th>\n",
       "      <th></th>\n",
       "      <th></th>\n",
       "      <th></th>\n",
       "      <th></th>\n",
       "      <th></th>\n",
       "      <th></th>\n",
       "    </tr>\n",
       "  </thead>\n",
       "  <tbody>\n",
       "    <tr>\n",
       "      <th>ABC News (Online)</th>\n",
       "      <td>left-center</td>\n",
       "      <td>https://www.allsides.com/news-source/abc-news-...</td>\n",
       "      <td>23941</td>\n",
       "      <td>13565</td>\n",
       "      <td>1.765</td>\n",
       "      <td>Agree</td>\n",
       "      <td>http://abcnews.go.com/</td>\n",
       "      <td>6/15/1945</td>\n",
       "      <td>The Walt Disney Company</td>\n",
       "    </tr>\n",
       "    <tr>\n",
       "      <th>AlterNet</th>\n",
       "      <td>left</td>\n",
       "      <td>https://www.allsides.com/news-source/alternet-...</td>\n",
       "      <td>8305</td>\n",
       "      <td>1844</td>\n",
       "      <td>4.504</td>\n",
       "      <td>Absolutely agree</td>\n",
       "      <td>http://www.alternet.org/</td>\n",
       "      <td></td>\n",
       "      <td>Independent Media Institute</td>\n",
       "    </tr>\n",
       "    <tr>\n",
       "      <th>Associated Press</th>\n",
       "      <td>center</td>\n",
       "      <td>https://www.allsides.com/news-source/associate...</td>\n",
       "      <td>16293</td>\n",
       "      <td>12054</td>\n",
       "      <td>1.352</td>\n",
       "      <td>Somewhat agree</td>\n",
       "      <td>https://apnews.com/</td>\n",
       "      <td>1846</td>\n",
       "      <td>Cooperatively owned by 1,500 member news outlets</td>\n",
       "    </tr>\n",
       "    <tr>\n",
       "      <th>BBC News</th>\n",
       "      <td>center</td>\n",
       "      <td>https://www.allsides.com/news-source/bbc-news-...</td>\n",
       "      <td>19994</td>\n",
       "      <td>17999</td>\n",
       "      <td>1.111</td>\n",
       "      <td>Somewhat agree</td>\n",
       "      <td>http://www.bbc.com/</td>\n",
       "      <td>10/18/1922</td>\n",
       "      <td>British Public</td>\n",
       "    </tr>\n",
       "    <tr>\n",
       "      <th>Bloomberg</th>\n",
       "      <td>left-center</td>\n",
       "      <td>https://www.allsides.com/news-source/bloomberg...</td>\n",
       "      <td>10922</td>\n",
       "      <td>16809</td>\n",
       "      <td>0.650</td>\n",
       "      <td>Disagree</td>\n",
       "      <td>http://www.bloomberg.com/</td>\n",
       "      <td>1990</td>\n",
       "      <td>Bloomberg LP (Michael Bloomberg CEO)</td>\n",
       "    </tr>\n",
       "  </tbody>\n",
       "</table>\n",
       "</div>"
      ],
      "text/plain": [
       "                  AllSides Bias Rating  \\\n",
       "News Source                              \n",
       "ABC News (Online)          left-center   \n",
       "AlterNet                          left   \n",
       "Associated Press                center   \n",
       "BBC News                        center   \n",
       "Bloomberg                  left-center   \n",
       "\n",
       "                                                     News Media Info  Agree  \\\n",
       "News Source                                                                   \n",
       "ABC News (Online)  https://www.allsides.com/news-source/abc-news-...  23941   \n",
       "AlterNet           https://www.allsides.com/news-source/alternet-...   8305   \n",
       "Associated Press   https://www.allsides.com/news-source/associate...  16293   \n",
       "BBC News           https://www.allsides.com/news-source/bbc-news-...  19994   \n",
       "Bloomberg          https://www.allsides.com/news-source/bloomberg...  10922   \n",
       "\n",
       "                   Disagree  Ratio Community feedback  \\\n",
       "News Source                                             \n",
       "ABC News (Online)     13565  1.765              Agree   \n",
       "AlterNet               1844  4.504   Absolutely agree   \n",
       "Associated Press      12054  1.352     Somewhat agree   \n",
       "BBC News              17999  1.111     Somewhat agree   \n",
       "Bloomberg             16809  0.650           Disagree   \n",
       "\n",
       "                            News Source Site Established  \\\n",
       "News Source                                                \n",
       "ABC News (Online)     http://abcnews.go.com/   6/15/1945   \n",
       "AlterNet            http://www.alternet.org/               \n",
       "Associated Press         https://apnews.com/        1846   \n",
       "BBC News                 http://www.bbc.com/  10/18/1922   \n",
       "Bloomberg          http://www.bloomberg.com/        1990   \n",
       "\n",
       "                                                           Owned by  \n",
       "News Source                                                          \n",
       "ABC News (Online)                           The Walt Disney Company  \n",
       "AlterNet                                Independent Media Institute  \n",
       "Associated Press   Cooperatively owned by 1,500 member news outlets  \n",
       "BBC News                                             British Public  \n",
       "Bloomberg                      Bloomberg LP (Michael Bloomberg CEO)  "
      ]
     },
     "execution_count": 13,
     "metadata": {},
     "output_type": "execute_result"
    }
   ],
   "source": [
    "df = pd.read_json(open('allside.json', 'r'))\n",
    "df.set_index('News Source', inplace=True)\n",
    "df.head()"
   ]
  },
  {
   "cell_type": "code",
   "execution_count": 14,
   "metadata": {},
   "outputs": [],
   "source": [
    "dfCopy10 = df.head(10).copy() #grabbing the first 10 and putting them into a variable "
   ]
  },
  {
   "cell_type": "code",
   "execution_count": 21,
   "metadata": {},
   "outputs": [],
   "source": [
    "plt.style.use('seaborn-dark') # the style of the graph "
   ]
  },
  {
   "cell_type": "code",
   "execution_count": 38,
   "metadata": {
    "scrolled": true
   },
   "outputs": [
    {
     "ename": "TypeError",
     "evalue": "bar() missing 1 required positional argument: 'height'",
     "output_type": "error",
     "traceback": [
      "\u001b[1;31m---------------------------------------------------------------------------\u001b[0m",
      "\u001b[1;31mTypeError\u001b[0m                                 Traceback (most recent call last)",
      "\u001b[1;32m<ipython-input-38-ab69a6b24b4d>\u001b[0m in \u001b[0;36m<module>\u001b[1;34m\u001b[0m\n\u001b[0;32m      1\u001b[0m \u001b[0mfig\u001b[0m\u001b[1;33m,\u001b[0m \u001b[0max\u001b[0m \u001b[1;33m=\u001b[0m \u001b[0mplt\u001b[0m\u001b[1;33m.\u001b[0m\u001b[0msubplots\u001b[0m\u001b[1;33m(\u001b[0m\u001b[0mfigsize\u001b[0m\u001b[1;33m=\u001b[0m\u001b[1;33m(\u001b[0m\u001b[1;36m20\u001b[0m\u001b[1;33m,\u001b[0m \u001b[1;36m15\u001b[0m\u001b[1;33m)\u001b[0m\u001b[1;33m)\u001b[0m \u001b[1;31m# the dimensions of the x-axis and y-axis\u001b[0m\u001b[1;33m\u001b[0m\u001b[1;33m\u001b[0m\u001b[0m\n\u001b[0;32m      2\u001b[0m \u001b[1;33m\u001b[0m\u001b[0m\n\u001b[1;32m----> 3\u001b[1;33m \u001b[0mplt\u001b[0m\u001b[1;33m.\u001b[0m\u001b[0mbar\u001b[0m\u001b[1;33m(\u001b[0m\u001b[0mdfCopy10\u001b[0m\u001b[1;33m[\u001b[0m\u001b[1;34m'Agree'\u001b[0m\u001b[1;33m]\u001b[0m\u001b[1;33m,\u001b[0m \u001b[0mcolor\u001b[0m\u001b[1;33m=\u001b[0m\u001b[1;34m'#000000'\u001b[0m\u001b[1;33m)\u001b[0m\u001b[1;33m\u001b[0m\u001b[1;33m\u001b[0m\u001b[0m\n\u001b[0m\u001b[0;32m      4\u001b[0m \u001b[1;33m\u001b[0m\u001b[0m\n\u001b[0;32m      5\u001b[0m \u001b[0mplt\u001b[0m\u001b[1;33m.\u001b[0m\u001b[0mtitle\u001b[0m\u001b[1;33m(\u001b[0m\u001b[1;34m'Allsides Rating vs. Community Feedback'\u001b[0m\u001b[1;33m,\u001b[0m \u001b[0mfontsize\u001b[0m\u001b[1;33m=\u001b[0m\u001b[1;36m20\u001b[0m\u001b[1;33m)\u001b[0m\u001b[1;33m\u001b[0m\u001b[1;33m\u001b[0m\u001b[0m\n",
      "\u001b[1;31mTypeError\u001b[0m: bar() missing 1 required positional argument: 'height'"
     ]
    },
    {
     "data": {
      "image/png": "[encoded data removed]",
      "text/plain": [
       "<Figure size 1440x1080 with 1 Axes>"
      ]
     },
     "metadata": {},
     "output_type": "display_data"
    }
   ],
   "source": [
    "fig, ax = plt.subplots(figsize=(20, 15)) # the dimensions of the x-axis and y-axis \n",
    "\n",
    "plt.title('Allsides Rating vs. Community Feedback', fontsize=20) \n",
    "plt.tight_layout()\n",
    "plt.grid(True)\n",
    "plt.show() #To make the plot appear"
   ]
  }
 ],
 "metadata": {
  "kernelspec": {
   "display_name": "Python 3",
   "language": "python",
   "name": "python3"
  },
  "language_info": {
   "codemirror_mode": {
    "name": "ipython",
    "version": 3
   },
   "file_extension": ".py",
   "mimetype": "text/x-python",
   "name": "python",
   "nbconvert_exporter": "python",
   "pygments_lexer": "ipython3",
   "version": "3.8.3"
  }
 },
 "nbformat": 4,
 "nbformat_minor": 4
}
